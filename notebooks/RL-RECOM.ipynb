{
 "cells": [
  {
   "cell_type": "markdown",
   "id": "bd173d78",
   "metadata": {},
   "source": [
    "# UDLF Non-Local Means (RL-RECOM)\n",
    "Images and data collected from experiments of UDLF Non-Local Means with RL-RECOM as the reranking method used."
   ]
  },
  {
   "cell_type": "markdown",
   "id": "8d4fc528",
   "metadata": {},
   "source": [
    "## Imports"
   ]
  },
  {
   "cell_type": "code",
   "execution_count": 15,
   "id": "2516c19d",
   "metadata": {},
   "outputs": [],
   "source": [
    "import matplotlib.pyplot as plt\n",
    "import numpy as np\n",
    "import pandas as pd\n",
    "\n",
    "%matplotlib inline\n",
    "\n",
    "from skimage import data\n",
    "from skimage.color import rgb2gray\n",
    "from skimage.metrics import mean_squared_error as mse\n",
    "from skimage.metrics import peak_signal_noise_ratio as psnr\n",
    "from skimage.metrics import structural_similarity as ssim\n",
    "from skimage.restoration import estimate_sigma\n",
    "from skimage.util import random_noise\n",
    "\n",
    "from nlmeans.nlmeans import nlmeans\n",
    "from nlmeans.nlmeans_udlf import nlmeans_udlf"
   ]
  },
  {
   "cell_type": "markdown",
   "id": "6cd70202",
   "metadata": {},
   "source": [
    "## Parameters"
   ]
  },
  {
   "cell_type": "code",
   "execution_count": 16,
   "id": "f5f30e73",
   "metadata": {},
   "outputs": [],
   "source": [
    "# Non-Local Means parameters\n",
    "hW = 10        # Window Size\n",
    "hP = 3         # Patch Size\n",
    "tau = 0.15     # Contribution of similarity on noisy-data\n",
    "sig = 0.1      # Standard deviation of the gaussian noise\n",
    "shape = 'disk' # Patch shape\n",
    "n_w = None     # Number of weights to use or use all(None)\n",
    "\n",
    "# Image to test with\n",
    "image = 'astronaut'\n",
    "\n",
    "# UDLF Parameters\n",
    "udl_method = 'RLRECOM'\n",
    "udl_params = {\n",
    "    'k': 8,\n",
    "    'lambda': 2,\n",
    "    'epsilon': 0.0125\n",
    "}"
   ]
  },
  {
   "cell_type": "markdown",
   "id": "b97449d9",
   "metadata": {},
   "source": [
    "## Image preprocessing\n",
    "Get the image from skimage dataset or use the image from the local file system if not found in skimage. \n",
    "\n",
    "After that, do the necessary preprocessing:\n",
    "- Crop the image to be 200x200 (This is necessary because UDLF has to be able to allocate memory to process the \n",
    "  ranked lists gotten from the image. In a system with more memory the image can possibly be greater);\n",
    "- Convert the image from RGB to Grayscale."
   ]
  },
  {
   "cell_type": "code",
   "execution_count": 17,
   "id": "e9125695",
   "metadata": {},
   "outputs": [],
   "source": [
    "images = ('astronaut',\n",
    "          'brick',\n",
    "          'camera',\n",
    "          'cat',\n",
    "          'checkerboard',\n",
    "          'clock',\n",
    "          'coffee',\n",
    "          'coins',\n",
    "          'grass',\n",
    "          'gravel',\n",
    "          'horse')\n",
    "\n",
    "if image in images:\n",
    "    im = getattr(data, image)()\n",
    "    im = im[100:300, 100:300]\n",
    "    im_name = image\n",
    "else:\n",
    "    im = plt.imread(image).astype('float')\n",
    "    im_name = os.path.splitext(os.path.basename(image))[0]\n",
    "\n",
    "if len(im.shape) == 3:\n",
    "    im = rgb2gray(im)\n",
    "\n",
    "# Show the image\n",
    "plt.imshow(im, cmap='gray')"
   ]
  },
  {
   "cell_type": "code",
   "execution_count": 18,
   "id": "42db0056",
   "metadata": {},
   "outputs": [],
   "source": [
    "im_nse = random_noise(im, var = sig**2)\n",
    "sigma_est = np.mean(estimate_sigma(im_nse, channel_axis=-1))\n",
    "plt.imshow(im_nse, cmap='gray')"
   ]
  },
  {
   "cell_type": "markdown",
   "id": "464b35a3",
   "metadata": {},
   "source": [
    "## Non-Local Means SAP\n",
    "For comparison the Non-Local Means SAP (the algorithm on which UDLF Non-Local Means is based) is run as well. "
   ]
  },
  {
   "cell_type": "code",
   "execution_count": 19,
   "id": "05d051f0",
   "metadata": {},
   "outputs": [],
   "source": [
    "%%time\n",
    "im_fil1 = nlmeans(im_nse, hW, hP, tau, sigma_est, shape)\n",
    "plt.imshow(im_fil1, cmap='gray')"
   ]
  },
  {
   "cell_type": "markdown",
   "id": "6f8c3daf",
   "metadata": {},
   "source": [
    "## UDLF Non-Local Means (RL-RECOM)\n",
    "This denoise the image using RL-RECOM as the reranking method and considering RLRECOM default parameters as indicated in the [UDLF config.ini](https://github.com/UDLF/UDLF/blob/master/bin/config.ini)"
   ]
  },
  {
   "cell_type": "code",
   "execution_count": 20,
   "id": "900fdf92",
   "metadata": {},
   "outputs": [],
   "source": [
    "%%time\n",
    "im_fil2 = nlmeans_udlf(im_nse, hW, hP, tau, sigma_est, shape, udl_method, udl_params, n_w)\n",
    "plt.imshow(im_fil2, cmap='gray')"
   ]
  },
  {
   "cell_type": "markdown",
   "id": "afcf5926",
   "metadata": {},
   "source": [
    "### Show the images side by side"
   ]
  },
  {
   "cell_type": "code",
   "execution_count": 21,
   "id": "e92a0356",
   "metadata": {},
   "outputs": [],
   "source": [
    "plt.rcParams['figure.figsize'] = [15, 5]\n",
    "plt.figure()\n",
    "plt.subplot(1, 3, 1)\n",
    "plt.xlabel('Noise image')\n",
    "plt.imshow(im_nse, cmap='gray')\n",
    "plt.subplot(1, 3, 2)\n",
    "plt.xlabel('Nlmeans')\n",
    "plt.imshow(im_fil1, cmap='gray')\n",
    "plt.subplot(1, 3, 3)\n",
    "plt.xlabel('RL-RECOM Nlmeans')\n",
    "plt.imshow(im_fil2, cmap='gray')\n",
    "plt.show()"
   ]
  },
  {
   "cell_type": "markdown",
   "id": "2ba94ab5",
   "metadata": {},
   "source": [
    "## Evaluation of results\n",
    "The following values are calculated to each of the three images:\n",
    "- PSNR\n",
    "- SSIM\n",
    "- MSE"
   ]
  },
  {
   "cell_type": "code",
   "execution_count": 22,
   "id": "59d09e23",
   "metadata": {},
   "outputs": [],
   "source": [
    "im_noise_psnr   = psnr(im, im_nse, data_range=im_nse.max() - im_nse.min())\n",
    "im_noise_ssim   = ssim(im, im_nse, data_range=im_nse.max() - im_nse.min())\n",
    "im_noise_mse    = mse(im, im_nse)\n",
    "\n",
    "nlm_noise_psnr  = psnr(im, im_fil1, data_range=im_fil1.max() - im_fil1.min())\n",
    "nlm_noise_ssim  = ssim(im, im_fil1, data_range=im_fil1.max() - im_fil1.min())\n",
    "nlm_noise_mse   = mse(im, im_fil1)\n",
    "\n",
    "udlf_noise_psnr = psnr(im, im_fil2, data_range=im_fil2.max() - im_fil2.min())\n",
    "udlf_noise_ssim = ssim(im, im_fil2, data_range=im_fil2.max() - im_fil2.min())\n",
    "udlf_noise_mse  = mse(im, im_fil2)\n",
    "\n",
    "pd.DataFrame(\n",
    "    data   = np.array([[im_noise_psnr, nlm_noise_psnr, udlf_noise_psnr],\n",
    "                       [im_noise_ssim, nlm_noise_ssim, udlf_noise_ssim],\n",
    "                       [im_noise_mse,  nlm_noise_mse,  udlf_noise_mse]]),\n",
    "    index   = ['PSNR', 'SSIM', 'MSE'],\n",
    "    columns = ['Noise', 'Nlmeans', 'RLRECOM Nlmeans'],\n",
    ")"
   ]
  },
  {
   "cell_type": "markdown",
   "id": "b349778f",
   "metadata": {},
   "source": [
    "## Hyperparameters Tuning"
   ]
  },
  {
   "cell_type": "code",
   "execution_count": null,
   "id": "f76a028e",
   "metadata": {},
   "outputs": [],
   "source": []
  }
 ],
 "metadata": {
  "kernelspec": {
   "display_name": "Python 3 (nlmeans)",
   "language": "python",
   "name": "nlmeans_sar"
  },
  "language_info": {
   "codemirror_mode": {
    "name": "ipython",
    "version": 3
   },
   "file_extension": ".py",
   "mimetype": "text/x-python",
   "name": "python",
   "nbconvert_exporter": "python",
   "pygments_lexer": "ipython3",
   "version": "3.10.12"
  }
 },
 "nbformat": 4,
 "nbformat_minor": 5
}
